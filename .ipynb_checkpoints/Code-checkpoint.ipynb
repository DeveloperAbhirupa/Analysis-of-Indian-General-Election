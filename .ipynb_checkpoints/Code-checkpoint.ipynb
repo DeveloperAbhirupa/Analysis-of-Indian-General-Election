{
 "cells": [
  {
   "cell_type": "code",
   "execution_count": 40,
   "metadata": {},
   "outputs": [],
   "source": [
    "import numpy as np # linear algebra\n",
    "import pandas as pd # data processing, CSV file I/O (e.g. pd.read_csv)\n",
    "import matplotlib.pyplot as plt\n",
    "import seaborn as sns\n",
    "import shapefile as shp"
   ]
  },
  {
   "cell_type": "code",
   "execution_count": 41,
   "metadata": {},
   "outputs": [
    {
     "name": "stdout",
     "output_type": "stream",
     "text": [
      "(543, 6)\n"
     ]
    },
    {
     "data": {
      "text/html": [
       "<div>\n",
       "<style scoped>\n",
       "    .dataframe tbody tr th:only-of-type {\n",
       "        vertical-align: middle;\n",
       "    }\n",
       "\n",
       "    .dataframe tbody tr th {\n",
       "        vertical-align: top;\n",
       "    }\n",
       "\n",
       "    .dataframe thead th {\n",
       "        text-align: right;\n",
       "    }\n",
       "</style>\n",
       "<table border=\"1\" class=\"dataframe\">\n",
       "  <thead>\n",
       "    <tr style=\"text-align: right;\">\n",
       "      <th></th>\n",
       "      <th>state</th>\n",
       "      <th>pc_no</th>\n",
       "      <th>Constituency</th>\n",
       "      <th>Total_voters</th>\n",
       "      <th>Total_Electors</th>\n",
       "      <th>poll_percent</th>\n",
       "    </tr>\n",
       "    <tr>\n",
       "      <th>state_code</th>\n",
       "      <th></th>\n",
       "      <th></th>\n",
       "      <th></th>\n",
       "      <th></th>\n",
       "      <th></th>\n",
       "      <th></th>\n",
       "    </tr>\n",
       "  </thead>\n",
       "  <tbody>\n",
       "    <tr>\n",
       "      <th>S01</th>\n",
       "      <td>Andhra Pradesh</td>\n",
       "      <td>1</td>\n",
       "      <td>Adilabad</td>\n",
       "      <td>1055593</td>\n",
       "      <td>1386282</td>\n",
       "      <td>76.15</td>\n",
       "    </tr>\n",
       "    <tr>\n",
       "      <th>S01</th>\n",
       "      <td>Andhra Pradesh</td>\n",
       "      <td>2</td>\n",
       "      <td>Peddapalle</td>\n",
       "      <td>1025194</td>\n",
       "      <td>1425355</td>\n",
       "      <td>71.93</td>\n",
       "    </tr>\n",
       "    <tr>\n",
       "      <th>S01</th>\n",
       "      <td>Andhra Pradesh</td>\n",
       "      <td>3</td>\n",
       "      <td>Karimnagar</td>\n",
       "      <td>1127225</td>\n",
       "      <td>1550810</td>\n",
       "      <td>72.69</td>\n",
       "    </tr>\n",
       "    <tr>\n",
       "      <th>S01</th>\n",
       "      <td>Andhra Pradesh</td>\n",
       "      <td>4</td>\n",
       "      <td>Nizamabad</td>\n",
       "      <td>1034032</td>\n",
       "      <td>1496193</td>\n",
       "      <td>69.11</td>\n",
       "    </tr>\n",
       "    <tr>\n",
       "      <th>S01</th>\n",
       "      <td>Andhra Pradesh</td>\n",
       "      <td>5</td>\n",
       "      <td>Zahirabad</td>\n",
       "      <td>1099784</td>\n",
       "      <td>1445354</td>\n",
       "      <td>76.09</td>\n",
       "    </tr>\n",
       "  </tbody>\n",
       "</table>\n",
       "</div>"
      ],
      "text/plain": [
       "                     state  pc_no Constituency  Total_voters  Total_Electors  \\\n",
       "state_code                                                                     \n",
       "S01         Andhra Pradesh      1    Adilabad        1055593         1386282   \n",
       "S01         Andhra Pradesh      2  Peddapalle        1025194         1425355   \n",
       "S01         Andhra Pradesh      3  Karimnagar        1127225         1550810   \n",
       "S01         Andhra Pradesh      4    Nizamabad       1034032         1496193   \n",
       "S01         Andhra Pradesh      5    Zahirabad       1099784         1445354   \n",
       "\n",
       "            poll_percent  \n",
       "state_code                \n",
       "S01                76.15  \n",
       "S01                71.93  \n",
       "S01                72.69  \n",
       "S01                69.11  \n",
       "S01                76.09  "
      ]
     },
     "execution_count": 41,
     "metadata": {},
     "output_type": "execute_result"
    }
   ],
   "source": [
    "elec2014 = pd.read_excel('Datasets/General Election/2014.xls', index_col=0)  \n",
    "print(elec2014.shape)\n",
    "elec2014.head()"
   ]
  },
  {
   "cell_type": "code",
   "execution_count": 80,
   "metadata": {},
   "outputs": [
    {
     "data": {
      "text/html": [
       "<div>\n",
       "<style scoped>\n",
       "    .dataframe tbody tr th:only-of-type {\n",
       "        vertical-align: middle;\n",
       "    }\n",
       "\n",
       "    .dataframe tbody tr th {\n",
       "        vertical-align: top;\n",
       "    }\n",
       "\n",
       "    .dataframe thead th {\n",
       "        text-align: right;\n",
       "    }\n",
       "</style>\n",
       "<table border=\"1\" class=\"dataframe\">\n",
       "  <thead>\n",
       "    <tr style=\"text-align: right;\">\n",
       "      <th></th>\n",
       "      <th>Year</th>\n",
       "      <th>Number of constituencies</th>\n",
       "      <th>Unnamed: 3</th>\n",
       "      <th>Number of electors</th>\n",
       "      <th>Number of votes polled</th>\n",
       "      <th>Number of valid votes polled</th>\n",
       "      <th>Percentage of votes polled</th>\n",
       "    </tr>\n",
       "    <tr>\n",
       "      <th>Sno</th>\n",
       "      <th></th>\n",
       "      <th></th>\n",
       "      <th></th>\n",
       "      <th></th>\n",
       "      <th></th>\n",
       "      <th></th>\n",
       "      <th></th>\n",
       "    </tr>\n",
       "  </thead>\n",
       "  <tbody>\n",
       "    <tr>\n",
       "      <th>1</th>\n",
       "      <td>1951</td>\n",
       "      <td>489</td>\n",
       "      <td>NaN</td>\n",
       "      <td>173212343</td>\n",
       "      <td>105950083</td>\n",
       "      <td>NaN</td>\n",
       "      <td>44.870000</td>\n",
       "    </tr>\n",
       "    <tr>\n",
       "      <th>2</th>\n",
       "      <td>1957</td>\n",
       "      <td>494</td>\n",
       "      <td>NaN</td>\n",
       "      <td>193652179</td>\n",
       "      <td>120513915</td>\n",
       "      <td>NaN</td>\n",
       "      <td>45.440000</td>\n",
       "    </tr>\n",
       "    <tr>\n",
       "      <th>3</th>\n",
       "      <td>1962</td>\n",
       "      <td>494</td>\n",
       "      <td>NaN</td>\n",
       "      <td>216361569</td>\n",
       "      <td>119904284</td>\n",
       "      <td>NaN</td>\n",
       "      <td>55.420000</td>\n",
       "    </tr>\n",
       "    <tr>\n",
       "      <th>4</th>\n",
       "      <td>1967</td>\n",
       "      <td>520</td>\n",
       "      <td>NaN</td>\n",
       "      <td>250207401</td>\n",
       "      <td>152724611</td>\n",
       "      <td>NaN</td>\n",
       "      <td>61.400000</td>\n",
       "    </tr>\n",
       "    <tr>\n",
       "      <th>5</th>\n",
       "      <td>1971</td>\n",
       "      <td>518</td>\n",
       "      <td>NaN</td>\n",
       "      <td>274189132</td>\n",
       "      <td>151536802</td>\n",
       "      <td>NaN</td>\n",
       "      <td>55.270000</td>\n",
       "    </tr>\n",
       "    <tr>\n",
       "      <th>6</th>\n",
       "      <td>1977</td>\n",
       "      <td>542</td>\n",
       "      <td>NaN</td>\n",
       "      <td>321174327</td>\n",
       "      <td>194263915</td>\n",
       "      <td>NaN</td>\n",
       "      <td>60.490000</td>\n",
       "    </tr>\n",
       "    <tr>\n",
       "      <th>7</th>\n",
       "      <td>1980</td>\n",
       "      <td>542</td>\n",
       "      <td>NaN</td>\n",
       "      <td>356205329</td>\n",
       "      <td>202752893</td>\n",
       "      <td>NaN</td>\n",
       "      <td>56.920000</td>\n",
       "    </tr>\n",
       "    <tr>\n",
       "      <th>8</th>\n",
       "      <td>1984</td>\n",
       "      <td>514</td>\n",
       "      <td>NaN</td>\n",
       "      <td>379540608</td>\n",
       "      <td>241246887</td>\n",
       "      <td>NaN</td>\n",
       "      <td>63.560000</td>\n",
       "    </tr>\n",
       "    <tr>\n",
       "      <th>9</th>\n",
       "      <td>1985</td>\n",
       "      <td>27</td>\n",
       "      <td>NaN</td>\n",
       "      <td>20834725</td>\n",
       "      <td>15048076</td>\n",
       "      <td>NaN</td>\n",
       "      <td>72.230000</td>\n",
       "    </tr>\n",
       "    <tr>\n",
       "      <th>10</th>\n",
       "      <td>1989</td>\n",
       "      <td>529</td>\n",
       "      <td>NaN</td>\n",
       "      <td>498906129</td>\n",
       "      <td>309050495</td>\n",
       "      <td>NaN</td>\n",
       "      <td>61.950000</td>\n",
       "    </tr>\n",
       "    <tr>\n",
       "      <th>11</th>\n",
       "      <td>1991</td>\n",
       "      <td>524</td>\n",
       "      <td>NaN</td>\n",
       "      <td>498363801</td>\n",
       "      <td>282700942</td>\n",
       "      <td>NaN</td>\n",
       "      <td>56.730000</td>\n",
       "    </tr>\n",
       "    <tr>\n",
       "      <th>12</th>\n",
       "      <td>1992</td>\n",
       "      <td>13</td>\n",
       "      <td>NaN</td>\n",
       "      <td>13169797</td>\n",
       "      <td>3155523</td>\n",
       "      <td>NaN</td>\n",
       "      <td>23.960000</td>\n",
       "    </tr>\n",
       "    <tr>\n",
       "      <th>13</th>\n",
       "      <td>1996</td>\n",
       "      <td>543</td>\n",
       "      <td>NaN</td>\n",
       "      <td>592572288</td>\n",
       "      <td>343308090</td>\n",
       "      <td>NaN</td>\n",
       "      <td>57.940000</td>\n",
       "    </tr>\n",
       "    <tr>\n",
       "      <th>14</th>\n",
       "      <td>1998</td>\n",
       "      <td>543</td>\n",
       "      <td>NaN</td>\n",
       "      <td>605880192</td>\n",
       "      <td>375441739</td>\n",
       "      <td>NaN</td>\n",
       "      <td>61.970000</td>\n",
       "    </tr>\n",
       "    <tr>\n",
       "      <th>15</th>\n",
       "      <td>1999</td>\n",
       "      <td>543</td>\n",
       "      <td>NaN</td>\n",
       "      <td>619559944</td>\n",
       "      <td>371669282</td>\n",
       "      <td>364437294.0</td>\n",
       "      <td>59.989237</td>\n",
       "    </tr>\n",
       "    <tr>\n",
       "      <th>16</th>\n",
       "      <td>2004</td>\n",
       "      <td>543</td>\n",
       "      <td>NaN</td>\n",
       "      <td>671487930</td>\n",
       "      <td>389948330</td>\n",
       "      <td>389779784.0</td>\n",
       "      <td>58.072277</td>\n",
       "    </tr>\n",
       "    <tr>\n",
       "      <th>17</th>\n",
       "      <td>2009</td>\n",
       "      <td>543</td>\n",
       "      <td>NaN</td>\n",
       "      <td>716985101</td>\n",
       "      <td>417236311</td>\n",
       "      <td>417037606.0</td>\n",
       "      <td>58.193163</td>\n",
       "    </tr>\n",
       "  </tbody>\n",
       "</table>\n",
       "</div>"
      ],
      "text/plain": [
       "      Year       Number of constituencies  Unnamed: 3  Number of electors  \\\n",
       "Sno                                                                         \n",
       "1     1951                            489         NaN           173212343   \n",
       "2     1957                            494         NaN           193652179   \n",
       "3     1962                            494         NaN           216361569   \n",
       "4     1967                            520         NaN           250207401   \n",
       "5     1971                            518         NaN           274189132   \n",
       "6     1977                            542         NaN           321174327   \n",
       "7     1980                            542         NaN           356205329   \n",
       "8     1984                            514         NaN           379540608   \n",
       "9     1985                             27         NaN            20834725   \n",
       "10    1989                            529         NaN           498906129   \n",
       "11    1991                            524         NaN           498363801   \n",
       "12    1992                             13         NaN            13169797   \n",
       "13    1996                            543         NaN           592572288   \n",
       "14    1998                            543         NaN           605880192   \n",
       "15    1999                            543         NaN           619559944   \n",
       "16    2004                            543         NaN           671487930   \n",
       "17    2009                            543         NaN           716985101   \n",
       "\n",
       "     Number of votes polled  Number of valid votes polled  \\\n",
       "Sno                                                         \n",
       "1                 105950083                           NaN   \n",
       "2                 120513915                           NaN   \n",
       "3                 119904284                           NaN   \n",
       "4                 152724611                           NaN   \n",
       "5                 151536802                           NaN   \n",
       "6                 194263915                           NaN   \n",
       "7                 202752893                           NaN   \n",
       "8                 241246887                           NaN   \n",
       "9                  15048076                           NaN   \n",
       "10                309050495                           NaN   \n",
       "11                282700942                           NaN   \n",
       "12                  3155523                           NaN   \n",
       "13                343308090                           NaN   \n",
       "14                375441739                           NaN   \n",
       "15                371669282                   364437294.0   \n",
       "16                389948330                   389779784.0   \n",
       "17                417236311                   417037606.0   \n",
       "\n",
       "     Percentage of votes polled  \n",
       "Sno                              \n",
       "1                     44.870000  \n",
       "2                     45.440000  \n",
       "3                     55.420000  \n",
       "4                     61.400000  \n",
       "5                     55.270000  \n",
       "6                     60.490000  \n",
       "7                     56.920000  \n",
       "8                     63.560000  \n",
       "9                     72.230000  \n",
       "10                    61.950000  \n",
       "11                    56.730000  \n",
       "12                    23.960000  \n",
       "13                    57.940000  \n",
       "14                    61.970000  \n",
       "15                    59.989237  \n",
       "16                    58.072277  \n",
       "17                    58.193163  "
      ]
     },
     "execution_count": 80,
     "metadata": {},
     "output_type": "execute_result"
    }
   ],
   "source": [
    "import plotly.express as px\n",
    "data = pd.read_excel('Datasets/yearwise.xls', index_col=0)\n",
    "data\n",
    "\n",
    "\n"
   ]
  },
  {
   "cell_type": "code",
   "execution_count": 82,
   "metadata": {},
   "outputs": [
    {
     "data": {
      "application/vnd.plotly.v1+json": {
       "config": {
        "plotlyServerURL": "https://plot.ly"
       },
       "data": [
        {
         "alignmentgroup": "True",
         "customdata": [
          [
           489,
           105950083
          ],
          [
           494,
           120513915
          ],
          [
           494,
           119904284
          ],
          [
           520,
           152724611
          ],
          [
           518,
           151536802
          ],
          [
           542,
           194263915
          ],
          [
           542,
           202752893
          ],
          [
           514,
           241246887
          ],
          [
           27,
           15048076
          ],
          [
           529,
           309050495
          ],
          [
           524,
           282700942
          ],
          [
           13,
           3155523
          ],
          [
           543,
           343308090
          ],
          [
           543,
           375441739
          ],
          [
           543,
           371669282
          ],
          [
           543,
           389948330
          ],
          [
           543,
           417236311
          ]
         ],
         "hoverlabel": {
          "namelength": 0
         },
         "hovertemplate": " Year=%{x}<br>Percentage of votes polled=%{marker.color}<br>     Number of constituencies=%{customdata[0]}<br>Number of votes polled=%{customdata[1]}",
         "legendgroup": "",
         "marker": {
          "color": [
           44.87,
           45.44,
           55.42,
           61.4,
           55.27,
           60.49,
           56.92,
           63.56,
           72.23,
           61.95,
           56.73,
           23.96,
           57.94,
           61.97,
           59.98923681224944,
           58.07227689111255,
           58.19316334719764
          ],
          "coloraxis": "coloraxis"
         },
         "name": "",
         "offsetgroup": "",
         "orientation": "v",
         "showlegend": false,
         "textposition": "auto",
         "type": "bar",
         "x": [
          1951,
          1957,
          1962,
          1967,
          1971,
          1977,
          1980,
          1984,
          1985,
          1989,
          1991,
          1992,
          1996,
          1998,
          1999,
          2004,
          2009
         ],
         "xaxis": "x",
         "y": [
          44.87,
          45.44,
          55.42,
          61.4,
          55.27,
          60.49,
          56.92,
          63.56,
          72.23,
          61.95,
          56.73,
          23.96,
          57.94,
          61.97,
          59.98923681224944,
          58.07227689111255,
          58.19316334719764
         ],
         "yaxis": "y"
        }
       ],
       "layout": {
        "barmode": "relative",
        "coloraxis": {
         "colorbar": {
          "title": {
           "text": "Percentage of votes polled"
          }
         },
         "colorscale": [
          [
           0,
           "#0d0887"
          ],
          [
           0.1111111111111111,
           "#46039f"
          ],
          [
           0.2222222222222222,
           "#7201a8"
          ],
          [
           0.3333333333333333,
           "#9c179e"
          ],
          [
           0.4444444444444444,
           "#bd3786"
          ],
          [
           0.5555555555555556,
           "#d8576b"
          ],
          [
           0.6666666666666666,
           "#ed7953"
          ],
          [
           0.7777777777777778,
           "#fb9f3a"
          ],
          [
           0.8888888888888888,
           "#fdca26"
          ],
          [
           1,
           "#f0f921"
          ]
         ]
        },
        "height": 400,
        "legend": {
         "tracegroupgap": 0
        },
        "template": {
         "data": {
          "bar": [
           {
            "error_x": {
             "color": "#2a3f5f"
            },
            "error_y": {
             "color": "#2a3f5f"
            },
            "marker": {
             "line": {
              "color": "#E5ECF6",
              "width": 0.5
             }
            },
            "type": "bar"
           }
          ],
          "barpolar": [
           {
            "marker": {
             "line": {
              "color": "#E5ECF6",
              "width": 0.5
             }
            },
            "type": "barpolar"
           }
          ],
          "carpet": [
           {
            "aaxis": {
             "endlinecolor": "#2a3f5f",
             "gridcolor": "white",
             "linecolor": "white",
             "minorgridcolor": "white",
             "startlinecolor": "#2a3f5f"
            },
            "baxis": {
             "endlinecolor": "#2a3f5f",
             "gridcolor": "white",
             "linecolor": "white",
             "minorgridcolor": "white",
             "startlinecolor": "#2a3f5f"
            },
            "type": "carpet"
           }
          ],
          "choropleth": [
           {
            "colorbar": {
             "outlinewidth": 0,
             "ticks": ""
            },
            "type": "choropleth"
           }
          ],
          "contour": [
           {
            "colorbar": {
             "outlinewidth": 0,
             "ticks": ""
            },
            "colorscale": [
             [
              0,
              "#0d0887"
             ],
             [
              0.1111111111111111,
              "#46039f"
             ],
             [
              0.2222222222222222,
              "#7201a8"
             ],
             [
              0.3333333333333333,
              "#9c179e"
             ],
             [
              0.4444444444444444,
              "#bd3786"
             ],
             [
              0.5555555555555556,
              "#d8576b"
             ],
             [
              0.6666666666666666,
              "#ed7953"
             ],
             [
              0.7777777777777778,
              "#fb9f3a"
             ],
             [
              0.8888888888888888,
              "#fdca26"
             ],
             [
              1,
              "#f0f921"
             ]
            ],
            "type": "contour"
           }
          ],
          "contourcarpet": [
           {
            "colorbar": {
             "outlinewidth": 0,
             "ticks": ""
            },
            "type": "contourcarpet"
           }
          ],
          "heatmap": [
           {
            "colorbar": {
             "outlinewidth": 0,
             "ticks": ""
            },
            "colorscale": [
             [
              0,
              "#0d0887"
             ],
             [
              0.1111111111111111,
              "#46039f"
             ],
             [
              0.2222222222222222,
              "#7201a8"
             ],
             [
              0.3333333333333333,
              "#9c179e"
             ],
             [
              0.4444444444444444,
              "#bd3786"
             ],
             [
              0.5555555555555556,
              "#d8576b"
             ],
             [
              0.6666666666666666,
              "#ed7953"
             ],
             [
              0.7777777777777778,
              "#fb9f3a"
             ],
             [
              0.8888888888888888,
              "#fdca26"
             ],
             [
              1,
              "#f0f921"
             ]
            ],
            "type": "heatmap"
           }
          ],
          "heatmapgl": [
           {
            "colorbar": {
             "outlinewidth": 0,
             "ticks": ""
            },
            "colorscale": [
             [
              0,
              "#0d0887"
             ],
             [
              0.1111111111111111,
              "#46039f"
             ],
             [
              0.2222222222222222,
              "#7201a8"
             ],
             [
              0.3333333333333333,
              "#9c179e"
             ],
             [
              0.4444444444444444,
              "#bd3786"
             ],
             [
              0.5555555555555556,
              "#d8576b"
             ],
             [
              0.6666666666666666,
              "#ed7953"
             ],
             [
              0.7777777777777778,
              "#fb9f3a"
             ],
             [
              0.8888888888888888,
              "#fdca26"
             ],
             [
              1,
              "#f0f921"
             ]
            ],
            "type": "heatmapgl"
           }
          ],
          "histogram": [
           {
            "marker": {
             "colorbar": {
              "outlinewidth": 0,
              "ticks": ""
             }
            },
            "type": "histogram"
           }
          ],
          "histogram2d": [
           {
            "colorbar": {
             "outlinewidth": 0,
             "ticks": ""
            },
            "colorscale": [
             [
              0,
              "#0d0887"
             ],
             [
              0.1111111111111111,
              "#46039f"
             ],
             [
              0.2222222222222222,
              "#7201a8"
             ],
             [
              0.3333333333333333,
              "#9c179e"
             ],
             [
              0.4444444444444444,
              "#bd3786"
             ],
             [
              0.5555555555555556,
              "#d8576b"
             ],
             [
              0.6666666666666666,
              "#ed7953"
             ],
             [
              0.7777777777777778,
              "#fb9f3a"
             ],
             [
              0.8888888888888888,
              "#fdca26"
             ],
             [
              1,
              "#f0f921"
             ]
            ],
            "type": "histogram2d"
           }
          ],
          "histogram2dcontour": [
           {
            "colorbar": {
             "outlinewidth": 0,
             "ticks": ""
            },
            "colorscale": [
             [
              0,
              "#0d0887"
             ],
             [
              0.1111111111111111,
              "#46039f"
             ],
             [
              0.2222222222222222,
              "#7201a8"
             ],
             [
              0.3333333333333333,
              "#9c179e"
             ],
             [
              0.4444444444444444,
              "#bd3786"
             ],
             [
              0.5555555555555556,
              "#d8576b"
             ],
             [
              0.6666666666666666,
              "#ed7953"
             ],
             [
              0.7777777777777778,
              "#fb9f3a"
             ],
             [
              0.8888888888888888,
              "#fdca26"
             ],
             [
              1,
              "#f0f921"
             ]
            ],
            "type": "histogram2dcontour"
           }
          ],
          "mesh3d": [
           {
            "colorbar": {
             "outlinewidth": 0,
             "ticks": ""
            },
            "type": "mesh3d"
           }
          ],
          "parcoords": [
           {
            "line": {
             "colorbar": {
              "outlinewidth": 0,
              "ticks": ""
             }
            },
            "type": "parcoords"
           }
          ],
          "pie": [
           {
            "automargin": true,
            "type": "pie"
           }
          ],
          "scatter": [
           {
            "marker": {
             "colorbar": {
              "outlinewidth": 0,
              "ticks": ""
             }
            },
            "type": "scatter"
           }
          ],
          "scatter3d": [
           {
            "line": {
             "colorbar": {
              "outlinewidth": 0,
              "ticks": ""
             }
            },
            "marker": {
             "colorbar": {
              "outlinewidth": 0,
              "ticks": ""
             }
            },
            "type": "scatter3d"
           }
          ],
          "scattercarpet": [
           {
            "marker": {
             "colorbar": {
              "outlinewidth": 0,
              "ticks": ""
             }
            },
            "type": "scattercarpet"
           }
          ],
          "scattergeo": [
           {
            "marker": {
             "colorbar": {
              "outlinewidth": 0,
              "ticks": ""
             }
            },
            "type": "scattergeo"
           }
          ],
          "scattergl": [
           {
            "marker": {
             "colorbar": {
              "outlinewidth": 0,
              "ticks": ""
             }
            },
            "type": "scattergl"
           }
          ],
          "scattermapbox": [
           {
            "marker": {
             "colorbar": {
              "outlinewidth": 0,
              "ticks": ""
             }
            },
            "type": "scattermapbox"
           }
          ],
          "scatterpolar": [
           {
            "marker": {
             "colorbar": {
              "outlinewidth": 0,
              "ticks": ""
             }
            },
            "type": "scatterpolar"
           }
          ],
          "scatterpolargl": [
           {
            "marker": {
             "colorbar": {
              "outlinewidth": 0,
              "ticks": ""
             }
            },
            "type": "scatterpolargl"
           }
          ],
          "scatterternary": [
           {
            "marker": {
             "colorbar": {
              "outlinewidth": 0,
              "ticks": ""
             }
            },
            "type": "scatterternary"
           }
          ],
          "surface": [
           {
            "colorbar": {
             "outlinewidth": 0,
             "ticks": ""
            },
            "colorscale": [
             [
              0,
              "#0d0887"
             ],
             [
              0.1111111111111111,
              "#46039f"
             ],
             [
              0.2222222222222222,
              "#7201a8"
             ],
             [
              0.3333333333333333,
              "#9c179e"
             ],
             [
              0.4444444444444444,
              "#bd3786"
             ],
             [
              0.5555555555555556,
              "#d8576b"
             ],
             [
              0.6666666666666666,
              "#ed7953"
             ],
             [
              0.7777777777777778,
              "#fb9f3a"
             ],
             [
              0.8888888888888888,
              "#fdca26"
             ],
             [
              1,
              "#f0f921"
             ]
            ],
            "type": "surface"
           }
          ],
          "table": [
           {
            "cells": {
             "fill": {
              "color": "#EBF0F8"
             },
             "line": {
              "color": "white"
             }
            },
            "header": {
             "fill": {
              "color": "#C8D4E3"
             },
             "line": {
              "color": "white"
             }
            },
            "type": "table"
           }
          ]
         },
         "layout": {
          "annotationdefaults": {
           "arrowcolor": "#2a3f5f",
           "arrowhead": 0,
           "arrowwidth": 1
          },
          "coloraxis": {
           "colorbar": {
            "outlinewidth": 0,
            "ticks": ""
           }
          },
          "colorscale": {
           "diverging": [
            [
             0,
             "#8e0152"
            ],
            [
             0.1,
             "#c51b7d"
            ],
            [
             0.2,
             "#de77ae"
            ],
            [
             0.3,
             "#f1b6da"
            ],
            [
             0.4,
             "#fde0ef"
            ],
            [
             0.5,
             "#f7f7f7"
            ],
            [
             0.6,
             "#e6f5d0"
            ],
            [
             0.7,
             "#b8e186"
            ],
            [
             0.8,
             "#7fbc41"
            ],
            [
             0.9,
             "#4d9221"
            ],
            [
             1,
             "#276419"
            ]
           ],
           "sequential": [
            [
             0,
             "#0d0887"
            ],
            [
             0.1111111111111111,
             "#46039f"
            ],
            [
             0.2222222222222222,
             "#7201a8"
            ],
            [
             0.3333333333333333,
             "#9c179e"
            ],
            [
             0.4444444444444444,
             "#bd3786"
            ],
            [
             0.5555555555555556,
             "#d8576b"
            ],
            [
             0.6666666666666666,
             "#ed7953"
            ],
            [
             0.7777777777777778,
             "#fb9f3a"
            ],
            [
             0.8888888888888888,
             "#fdca26"
            ],
            [
             1,
             "#f0f921"
            ]
           ],
           "sequentialminus": [
            [
             0,
             "#0d0887"
            ],
            [
             0.1111111111111111,
             "#46039f"
            ],
            [
             0.2222222222222222,
             "#7201a8"
            ],
            [
             0.3333333333333333,
             "#9c179e"
            ],
            [
             0.4444444444444444,
             "#bd3786"
            ],
            [
             0.5555555555555556,
             "#d8576b"
            ],
            [
             0.6666666666666666,
             "#ed7953"
            ],
            [
             0.7777777777777778,
             "#fb9f3a"
            ],
            [
             0.8888888888888888,
             "#fdca26"
            ],
            [
             1,
             "#f0f921"
            ]
           ]
          },
          "colorway": [
           "#636efa",
           "#EF553B",
           "#00cc96",
           "#ab63fa",
           "#FFA15A",
           "#19d3f3",
           "#FF6692",
           "#B6E880",
           "#FF97FF",
           "#FECB52"
          ],
          "font": {
           "color": "#2a3f5f"
          },
          "geo": {
           "bgcolor": "white",
           "lakecolor": "white",
           "landcolor": "#E5ECF6",
           "showlakes": true,
           "showland": true,
           "subunitcolor": "white"
          },
          "hoverlabel": {
           "align": "left"
          },
          "hovermode": "closest",
          "mapbox": {
           "style": "light"
          },
          "paper_bgcolor": "white",
          "plot_bgcolor": "#E5ECF6",
          "polar": {
           "angularaxis": {
            "gridcolor": "white",
            "linecolor": "white",
            "ticks": ""
           },
           "bgcolor": "#E5ECF6",
           "radialaxis": {
            "gridcolor": "white",
            "linecolor": "white",
            "ticks": ""
           }
          },
          "scene": {
           "xaxis": {
            "backgroundcolor": "#E5ECF6",
            "gridcolor": "white",
            "gridwidth": 2,
            "linecolor": "white",
            "showbackground": true,
            "ticks": "",
            "zerolinecolor": "white"
           },
           "yaxis": {
            "backgroundcolor": "#E5ECF6",
            "gridcolor": "white",
            "gridwidth": 2,
            "linecolor": "white",
            "showbackground": true,
            "ticks": "",
            "zerolinecolor": "white"
           },
           "zaxis": {
            "backgroundcolor": "#E5ECF6",
            "gridcolor": "white",
            "gridwidth": 2,
            "linecolor": "white",
            "showbackground": true,
            "ticks": "",
            "zerolinecolor": "white"
           }
          },
          "shapedefaults": {
           "line": {
            "color": "#2a3f5f"
           }
          },
          "ternary": {
           "aaxis": {
            "gridcolor": "white",
            "linecolor": "white",
            "ticks": ""
           },
           "baxis": {
            "gridcolor": "white",
            "linecolor": "white",
            "ticks": ""
           },
           "bgcolor": "#E5ECF6",
           "caxis": {
            "gridcolor": "white",
            "linecolor": "white",
            "ticks": ""
           }
          },
          "title": {
           "x": 0.05
          },
          "xaxis": {
           "automargin": true,
           "gridcolor": "white",
           "linecolor": "white",
           "ticks": "",
           "title": {
            "standoff": 15
           },
           "zerolinecolor": "white",
           "zerolinewidth": 2
          },
          "yaxis": {
           "automargin": true,
           "gridcolor": "white",
           "linecolor": "white",
           "ticks": "",
           "title": {
            "standoff": 15
           },
           "zerolinecolor": "white",
           "zerolinewidth": 2
          }
         }
        },
        "title": {
         "text": "Yearwise voter turnout in Indian General Elections"
        },
        "width": 800,
        "xaxis": {
         "anchor": "y",
         "domain": [
          0,
          1
         ],
         "title": {
          "text": " Year"
         }
        },
        "yaxis": {
         "anchor": "x",
         "domain": [
          0,
          1
         ],
         "title": {
          "text": "Percentage of votes polled"
         }
        }
       }
      },
      "text/html": [
       "<div>\n",
       "        \n",
       "        \n",
       "            <div id=\"ab3b9f98-86ae-4ea4-a43d-e03265bb379d\" class=\"plotly-graph-div\" style=\"height:400px; width:800px;\"></div>\n",
       "            <script type=\"text/javascript\">\n",
       "                require([\"plotly\"], function(Plotly) {\n",
       "                    window.PLOTLYENV=window.PLOTLYENV || {};\n",
       "                    \n",
       "                if (document.getElementById(\"ab3b9f98-86ae-4ea4-a43d-e03265bb379d\")) {\n",
       "                    Plotly.newPlot(\n",
       "                        'ab3b9f98-86ae-4ea4-a43d-e03265bb379d',\n",
       "                        [{\"alignmentgroup\": \"True\", \"customdata\": [[489, 105950083], [494, 120513915], [494, 119904284], [520, 152724611], [518, 151536802], [542, 194263915], [542, 202752893], [514, 241246887], [27, 15048076], [529, 309050495], [524, 282700942], [13, 3155523], [543, 343308090], [543, 375441739], [543, 371669282], [543, 389948330], [543, 417236311]], \"hoverlabel\": {\"namelength\": 0}, \"hovertemplate\": \" Year=%{x}<br>Percentage of votes polled=%{marker.color}<br>     Number of constituencies=%{customdata[0]}<br>Number of votes polled=%{customdata[1]}\", \"legendgroup\": \"\", \"marker\": {\"color\": [44.87, 45.44, 55.42, 61.4, 55.27, 60.49, 56.92, 63.56, 72.23, 61.95, 56.73, 23.96, 57.94, 61.97, 59.98923681224944, 58.07227689111255, 58.19316334719764], \"coloraxis\": \"coloraxis\"}, \"name\": \"\", \"offsetgroup\": \"\", \"orientation\": \"v\", \"showlegend\": false, \"textposition\": \"auto\", \"type\": \"bar\", \"x\": [1951, 1957, 1962, 1967, 1971, 1977, 1980, 1984, 1985, 1989, 1991, 1992, 1996, 1998, 1999, 2004, 2009], \"xaxis\": \"x\", \"y\": [44.87, 45.44, 55.42, 61.4, 55.27, 60.49, 56.92, 63.56, 72.23, 61.95, 56.73, 23.96, 57.94, 61.97, 59.98923681224944, 58.07227689111255, 58.19316334719764], \"yaxis\": \"y\"}],\n",
       "                        {\"barmode\": \"relative\", \"coloraxis\": {\"colorbar\": {\"title\": {\"text\": \"Percentage of votes polled\"}}, \"colorscale\": [[0.0, \"#0d0887\"], [0.1111111111111111, \"#46039f\"], [0.2222222222222222, \"#7201a8\"], [0.3333333333333333, \"#9c179e\"], [0.4444444444444444, \"#bd3786\"], [0.5555555555555556, \"#d8576b\"], [0.6666666666666666, \"#ed7953\"], [0.7777777777777778, \"#fb9f3a\"], [0.8888888888888888, \"#fdca26\"], [1.0, \"#f0f921\"]]}, \"height\": 400, \"legend\": {\"tracegroupgap\": 0}, \"template\": {\"data\": {\"bar\": [{\"error_x\": {\"color\": \"#2a3f5f\"}, \"error_y\": {\"color\": \"#2a3f5f\"}, \"marker\": {\"line\": {\"color\": \"#E5ECF6\", \"width\": 0.5}}, \"type\": \"bar\"}], \"barpolar\": [{\"marker\": {\"line\": {\"color\": \"#E5ECF6\", \"width\": 0.5}}, \"type\": \"barpolar\"}], \"carpet\": [{\"aaxis\": {\"endlinecolor\": \"#2a3f5f\", \"gridcolor\": \"white\", \"linecolor\": \"white\", \"minorgridcolor\": \"white\", \"startlinecolor\": \"#2a3f5f\"}, \"baxis\": {\"endlinecolor\": \"#2a3f5f\", \"gridcolor\": \"white\", \"linecolor\": \"white\", \"minorgridcolor\": \"white\", \"startlinecolor\": \"#2a3f5f\"}, \"type\": \"carpet\"}], \"choropleth\": [{\"colorbar\": {\"outlinewidth\": 0, \"ticks\": \"\"}, \"type\": \"choropleth\"}], \"contour\": [{\"colorbar\": {\"outlinewidth\": 0, \"ticks\": \"\"}, \"colorscale\": [[0.0, \"#0d0887\"], [0.1111111111111111, \"#46039f\"], [0.2222222222222222, \"#7201a8\"], [0.3333333333333333, \"#9c179e\"], [0.4444444444444444, \"#bd3786\"], [0.5555555555555556, \"#d8576b\"], [0.6666666666666666, \"#ed7953\"], [0.7777777777777778, \"#fb9f3a\"], [0.8888888888888888, \"#fdca26\"], [1.0, \"#f0f921\"]], \"type\": \"contour\"}], \"contourcarpet\": [{\"colorbar\": {\"outlinewidth\": 0, \"ticks\": \"\"}, \"type\": \"contourcarpet\"}], \"heatmap\": [{\"colorbar\": {\"outlinewidth\": 0, \"ticks\": \"\"}, \"colorscale\": [[0.0, \"#0d0887\"], [0.1111111111111111, \"#46039f\"], [0.2222222222222222, \"#7201a8\"], [0.3333333333333333, \"#9c179e\"], [0.4444444444444444, \"#bd3786\"], [0.5555555555555556, \"#d8576b\"], [0.6666666666666666, \"#ed7953\"], [0.7777777777777778, \"#fb9f3a\"], [0.8888888888888888, \"#fdca26\"], [1.0, \"#f0f921\"]], \"type\": \"heatmap\"}], \"heatmapgl\": [{\"colorbar\": {\"outlinewidth\": 0, \"ticks\": \"\"}, \"colorscale\": [[0.0, \"#0d0887\"], [0.1111111111111111, \"#46039f\"], [0.2222222222222222, \"#7201a8\"], [0.3333333333333333, \"#9c179e\"], [0.4444444444444444, \"#bd3786\"], [0.5555555555555556, \"#d8576b\"], [0.6666666666666666, \"#ed7953\"], [0.7777777777777778, \"#fb9f3a\"], [0.8888888888888888, \"#fdca26\"], [1.0, \"#f0f921\"]], \"type\": \"heatmapgl\"}], \"histogram\": [{\"marker\": {\"colorbar\": {\"outlinewidth\": 0, \"ticks\": \"\"}}, \"type\": \"histogram\"}], \"histogram2d\": [{\"colorbar\": {\"outlinewidth\": 0, \"ticks\": \"\"}, \"colorscale\": [[0.0, \"#0d0887\"], [0.1111111111111111, \"#46039f\"], [0.2222222222222222, \"#7201a8\"], [0.3333333333333333, \"#9c179e\"], [0.4444444444444444, \"#bd3786\"], [0.5555555555555556, \"#d8576b\"], [0.6666666666666666, \"#ed7953\"], [0.7777777777777778, \"#fb9f3a\"], [0.8888888888888888, \"#fdca26\"], [1.0, \"#f0f921\"]], \"type\": \"histogram2d\"}], \"histogram2dcontour\": [{\"colorbar\": {\"outlinewidth\": 0, \"ticks\": \"\"}, \"colorscale\": [[0.0, \"#0d0887\"], [0.1111111111111111, \"#46039f\"], [0.2222222222222222, \"#7201a8\"], [0.3333333333333333, \"#9c179e\"], [0.4444444444444444, \"#bd3786\"], [0.5555555555555556, \"#d8576b\"], [0.6666666666666666, \"#ed7953\"], [0.7777777777777778, \"#fb9f3a\"], [0.8888888888888888, \"#fdca26\"], [1.0, \"#f0f921\"]], \"type\": \"histogram2dcontour\"}], \"mesh3d\": [{\"colorbar\": {\"outlinewidth\": 0, \"ticks\": \"\"}, \"type\": \"mesh3d\"}], \"parcoords\": [{\"line\": {\"colorbar\": {\"outlinewidth\": 0, \"ticks\": \"\"}}, \"type\": \"parcoords\"}], \"pie\": [{\"automargin\": true, \"type\": \"pie\"}], \"scatter\": [{\"marker\": {\"colorbar\": {\"outlinewidth\": 0, \"ticks\": \"\"}}, \"type\": \"scatter\"}], \"scatter3d\": [{\"line\": {\"colorbar\": {\"outlinewidth\": 0, \"ticks\": \"\"}}, \"marker\": {\"colorbar\": {\"outlinewidth\": 0, \"ticks\": \"\"}}, \"type\": \"scatter3d\"}], \"scattercarpet\": [{\"marker\": {\"colorbar\": {\"outlinewidth\": 0, \"ticks\": \"\"}}, \"type\": \"scattercarpet\"}], \"scattergeo\": [{\"marker\": {\"colorbar\": {\"outlinewidth\": 0, \"ticks\": \"\"}}, \"type\": \"scattergeo\"}], \"scattergl\": [{\"marker\": {\"colorbar\": {\"outlinewidth\": 0, \"ticks\": \"\"}}, \"type\": \"scattergl\"}], \"scattermapbox\": [{\"marker\": {\"colorbar\": {\"outlinewidth\": 0, \"ticks\": \"\"}}, \"type\": \"scattermapbox\"}], \"scatterpolar\": [{\"marker\": {\"colorbar\": {\"outlinewidth\": 0, \"ticks\": \"\"}}, \"type\": \"scatterpolar\"}], \"scatterpolargl\": [{\"marker\": {\"colorbar\": {\"outlinewidth\": 0, \"ticks\": \"\"}}, \"type\": \"scatterpolargl\"}], \"scatterternary\": [{\"marker\": {\"colorbar\": {\"outlinewidth\": 0, \"ticks\": \"\"}}, \"type\": \"scatterternary\"}], \"surface\": [{\"colorbar\": {\"outlinewidth\": 0, \"ticks\": \"\"}, \"colorscale\": [[0.0, \"#0d0887\"], [0.1111111111111111, \"#46039f\"], [0.2222222222222222, \"#7201a8\"], [0.3333333333333333, \"#9c179e\"], [0.4444444444444444, \"#bd3786\"], [0.5555555555555556, \"#d8576b\"], [0.6666666666666666, \"#ed7953\"], [0.7777777777777778, \"#fb9f3a\"], [0.8888888888888888, \"#fdca26\"], [1.0, \"#f0f921\"]], \"type\": \"surface\"}], \"table\": [{\"cells\": {\"fill\": {\"color\": \"#EBF0F8\"}, \"line\": {\"color\": \"white\"}}, \"header\": {\"fill\": {\"color\": \"#C8D4E3\"}, \"line\": {\"color\": \"white\"}}, \"type\": \"table\"}]}, \"layout\": {\"annotationdefaults\": {\"arrowcolor\": \"#2a3f5f\", \"arrowhead\": 0, \"arrowwidth\": 1}, \"coloraxis\": {\"colorbar\": {\"outlinewidth\": 0, \"ticks\": \"\"}}, \"colorscale\": {\"diverging\": [[0, \"#8e0152\"], [0.1, \"#c51b7d\"], [0.2, \"#de77ae\"], [0.3, \"#f1b6da\"], [0.4, \"#fde0ef\"], [0.5, \"#f7f7f7\"], [0.6, \"#e6f5d0\"], [0.7, \"#b8e186\"], [0.8, \"#7fbc41\"], [0.9, \"#4d9221\"], [1, \"#276419\"]], \"sequential\": [[0.0, \"#0d0887\"], [0.1111111111111111, \"#46039f\"], [0.2222222222222222, \"#7201a8\"], [0.3333333333333333, \"#9c179e\"], [0.4444444444444444, \"#bd3786\"], [0.5555555555555556, \"#d8576b\"], [0.6666666666666666, \"#ed7953\"], [0.7777777777777778, \"#fb9f3a\"], [0.8888888888888888, \"#fdca26\"], [1.0, \"#f0f921\"]], \"sequentialminus\": [[0.0, \"#0d0887\"], [0.1111111111111111, \"#46039f\"], [0.2222222222222222, \"#7201a8\"], [0.3333333333333333, \"#9c179e\"], [0.4444444444444444, \"#bd3786\"], [0.5555555555555556, \"#d8576b\"], [0.6666666666666666, \"#ed7953\"], [0.7777777777777778, \"#fb9f3a\"], [0.8888888888888888, \"#fdca26\"], [1.0, \"#f0f921\"]]}, \"colorway\": [\"#636efa\", \"#EF553B\", \"#00cc96\", \"#ab63fa\", \"#FFA15A\", \"#19d3f3\", \"#FF6692\", \"#B6E880\", \"#FF97FF\", \"#FECB52\"], \"font\": {\"color\": \"#2a3f5f\"}, \"geo\": {\"bgcolor\": \"white\", \"lakecolor\": \"white\", \"landcolor\": \"#E5ECF6\", \"showlakes\": true, \"showland\": true, \"subunitcolor\": \"white\"}, \"hoverlabel\": {\"align\": \"left\"}, \"hovermode\": \"closest\", \"mapbox\": {\"style\": \"light\"}, \"paper_bgcolor\": \"white\", \"plot_bgcolor\": \"#E5ECF6\", \"polar\": {\"angularaxis\": {\"gridcolor\": \"white\", \"linecolor\": \"white\", \"ticks\": \"\"}, \"bgcolor\": \"#E5ECF6\", \"radialaxis\": {\"gridcolor\": \"white\", \"linecolor\": \"white\", \"ticks\": \"\"}}, \"scene\": {\"xaxis\": {\"backgroundcolor\": \"#E5ECF6\", \"gridcolor\": \"white\", \"gridwidth\": 2, \"linecolor\": \"white\", \"showbackground\": true, \"ticks\": \"\", \"zerolinecolor\": \"white\"}, \"yaxis\": {\"backgroundcolor\": \"#E5ECF6\", \"gridcolor\": \"white\", \"gridwidth\": 2, \"linecolor\": \"white\", \"showbackground\": true, \"ticks\": \"\", \"zerolinecolor\": \"white\"}, \"zaxis\": {\"backgroundcolor\": \"#E5ECF6\", \"gridcolor\": \"white\", \"gridwidth\": 2, \"linecolor\": \"white\", \"showbackground\": true, \"ticks\": \"\", \"zerolinecolor\": \"white\"}}, \"shapedefaults\": {\"line\": {\"color\": \"#2a3f5f\"}}, \"ternary\": {\"aaxis\": {\"gridcolor\": \"white\", \"linecolor\": \"white\", \"ticks\": \"\"}, \"baxis\": {\"gridcolor\": \"white\", \"linecolor\": \"white\", \"ticks\": \"\"}, \"bgcolor\": \"#E5ECF6\", \"caxis\": {\"gridcolor\": \"white\", \"linecolor\": \"white\", \"ticks\": \"\"}}, \"title\": {\"x\": 0.05}, \"xaxis\": {\"automargin\": true, \"gridcolor\": \"white\", \"linecolor\": \"white\", \"ticks\": \"\", \"title\": {\"standoff\": 15}, \"zerolinecolor\": \"white\", \"zerolinewidth\": 2}, \"yaxis\": {\"automargin\": true, \"gridcolor\": \"white\", \"linecolor\": \"white\", \"ticks\": \"\", \"title\": {\"standoff\": 15}, \"zerolinecolor\": \"white\", \"zerolinewidth\": 2}}}, \"title\": {\"text\": \"Yearwise voter turnout in Indian General Elections\"}, \"width\": 800, \"xaxis\": {\"anchor\": \"y\", \"domain\": [0.0, 1.0], \"title\": {\"text\": \" Year\"}}, \"yaxis\": {\"anchor\": \"x\", \"domain\": [0.0, 1.0], \"title\": {\"text\": \"Percentage of votes polled\"}}},\n",
       "                        {\"responsive\": true}\n",
       "                    ).then(function(){\n",
       "                            \n",
       "var gd = document.getElementById('ab3b9f98-86ae-4ea4-a43d-e03265bb379d');\n",
       "var x = new MutationObserver(function (mutations, observer) {{\n",
       "        var display = window.getComputedStyle(gd).display;\n",
       "        if (!display || display === 'none') {{\n",
       "            console.log([gd, 'removed!']);\n",
       "            Plotly.purge(gd);\n",
       "            observer.disconnect();\n",
       "        }}\n",
       "}});\n",
       "\n",
       "// Listen for the removal of the full notebook cells\n",
       "var notebookContainer = gd.closest('#notebook-container');\n",
       "if (notebookContainer) {{\n",
       "    x.observe(notebookContainer, {childList: true});\n",
       "}}\n",
       "\n",
       "// Listen for the clearing of the current output cell\n",
       "var outputEl = gd.closest('.output');\n",
       "if (outputEl) {{\n",
       "    x.observe(outputEl, {childList: true});\n",
       "}}\n",
       "\n",
       "                        })\n",
       "                };\n",
       "                });\n",
       "            </script>\n",
       "        </div>"
      ]
     },
     "metadata": {},
     "output_type": "display_data"
    }
   ],
   "source": [
    "fig = px.bar(data, x=' Year', y='Percentage of votes polled', hover_data=['     Number of constituencies', 'Number of votes polled'], color='Percentage of votes polled',  height=400, width=800, title='Yearwise voter turnout in Indian General Elections')\n",
    "fig.show()"
   ]
  },
  {
   "cell_type": "code",
   "execution_count": 83,
   "metadata": {
    "scrolled": false
   },
   "outputs": [],
   "source": [
    "#Performing Yearwise Analysis of Generl Elections since 1999"
   ]
  },
  {
   "cell_type": "code",
   "execution_count": 100,
   "metadata": {},
   "outputs": [],
   "source": [
    "ge1999 = pd.ExcelFile('Datasets/General Election/GE_1999.xls')  \n"
   ]
  },
  {
   "cell_type": "code",
   "execution_count": 101,
   "metadata": {},
   "outputs": [],
   "source": [
    "ge99el = ge1999.parse('electors')"
   ]
  },
  {
   "cell_type": "code",
   "execution_count": 102,
   "metadata": {},
   "outputs": [
    {
     "data": {
      "text/html": [
       "<div>\n",
       "<style scoped>\n",
       "    .dataframe tbody tr th:only-of-type {\n",
       "        vertical-align: middle;\n",
       "    }\n",
       "\n",
       "    .dataframe tbody tr th {\n",
       "        vertical-align: top;\n",
       "    }\n",
       "\n",
       "    .dataframe thead th {\n",
       "        text-align: right;\n",
       "    }\n",
       "</style>\n",
       "<table border=\"1\" class=\"dataframe\">\n",
       "  <thead>\n",
       "    <tr style=\"text-align: right;\">\n",
       "      <th></th>\n",
       "      <th>ST_CODE</th>\n",
       "      <th>ST_NAME</th>\n",
       "      <th>PC_NO</th>\n",
       "      <th>PC_NAME</th>\n",
       "      <th>PC_TYPE</th>\n",
       "      <th>MONTH</th>\n",
       "      <th>YEAR</th>\n",
       "      <th>TOT_ELECTORS</th>\n",
       "      <th>TOT_VOTERS</th>\n",
       "      <th>TOT_CONTESTANT</th>\n",
       "      <th>POLL_PERCENT</th>\n",
       "    </tr>\n",
       "  </thead>\n",
       "  <tbody>\n",
       "    <tr>\n",
       "      <th>0</th>\n",
       "      <td>S01</td>\n",
       "      <td>ANDHRA PRADESH</td>\n",
       "      <td>1</td>\n",
       "      <td>Srikakulam</td>\n",
       "      <td>GEN</td>\n",
       "      <td>7</td>\n",
       "      <td>1999</td>\n",
       "      <td>985232</td>\n",
       "      <td>676413</td>\n",
       "      <td>3</td>\n",
       "      <td>68.66</td>\n",
       "    </tr>\n",
       "    <tr>\n",
       "      <th>1</th>\n",
       "      <td>S01</td>\n",
       "      <td>ANDHRA PRADESH</td>\n",
       "      <td>2</td>\n",
       "      <td>Parvathipuram</td>\n",
       "      <td>ST</td>\n",
       "      <td>7</td>\n",
       "      <td>1999</td>\n",
       "      <td>911609</td>\n",
       "      <td>637051</td>\n",
       "      <td>4</td>\n",
       "      <td>69.88</td>\n",
       "    </tr>\n",
       "    <tr>\n",
       "      <th>2</th>\n",
       "      <td>S01</td>\n",
       "      <td>ANDHRA PRADESH</td>\n",
       "      <td>3</td>\n",
       "      <td>Bobbili</td>\n",
       "      <td>GEN</td>\n",
       "      <td>7</td>\n",
       "      <td>1999</td>\n",
       "      <td>949773</td>\n",
       "      <td>716703</td>\n",
       "      <td>4</td>\n",
       "      <td>75.46</td>\n",
       "    </tr>\n",
       "    <tr>\n",
       "      <th>3</th>\n",
       "      <td>S01</td>\n",
       "      <td>ANDHRA PRADESH</td>\n",
       "      <td>4</td>\n",
       "      <td>Visakhapatnam</td>\n",
       "      <td>GEN</td>\n",
       "      <td>7</td>\n",
       "      <td>1999</td>\n",
       "      <td>1420606</td>\n",
       "      <td>914936</td>\n",
       "      <td>6</td>\n",
       "      <td>64.40</td>\n",
       "    </tr>\n",
       "    <tr>\n",
       "      <th>4</th>\n",
       "      <td>S01</td>\n",
       "      <td>ANDHRA PRADESH</td>\n",
       "      <td>5</td>\n",
       "      <td>Bhadrachalam</td>\n",
       "      <td>ST</td>\n",
       "      <td>7</td>\n",
       "      <td>1999</td>\n",
       "      <td>1085536</td>\n",
       "      <td>759883</td>\n",
       "      <td>6</td>\n",
       "      <td>70.00</td>\n",
       "    </tr>\n",
       "    <tr>\n",
       "      <th>...</th>\n",
       "      <td>...</td>\n",
       "      <td>...</td>\n",
       "      <td>...</td>\n",
       "      <td>...</td>\n",
       "      <td>...</td>\n",
       "      <td>...</td>\n",
       "      <td>...</td>\n",
       "      <td>...</td>\n",
       "      <td>...</td>\n",
       "      <td>...</td>\n",
       "      <td>...</td>\n",
       "    </tr>\n",
       "    <tr>\n",
       "      <th>538</th>\n",
       "      <td>U05</td>\n",
       "      <td>NATIONAL CAPITAL TERRITORY OF DELHI</td>\n",
       "      <td>5</td>\n",
       "      <td>Chandni Chowk</td>\n",
       "      <td>GEN</td>\n",
       "      <td>7</td>\n",
       "      <td>1999</td>\n",
       "      <td>376654</td>\n",
       "      <td>204453</td>\n",
       "      <td>15</td>\n",
       "      <td>54.28</td>\n",
       "    </tr>\n",
       "    <tr>\n",
       "      <th>539</th>\n",
       "      <td>U05</td>\n",
       "      <td>NATIONAL CAPITAL TERRITORY OF DELHI</td>\n",
       "      <td>6</td>\n",
       "      <td>Delhi Sadar</td>\n",
       "      <td>GEN</td>\n",
       "      <td>7</td>\n",
       "      <td>1999</td>\n",
       "      <td>529646</td>\n",
       "      <td>278297</td>\n",
       "      <td>13</td>\n",
       "      <td>52.54</td>\n",
       "    </tr>\n",
       "    <tr>\n",
       "      <th>540</th>\n",
       "      <td>U05</td>\n",
       "      <td>NATIONAL CAPITAL TERRITORY OF DELHI</td>\n",
       "      <td>7</td>\n",
       "      <td>Karol Bagh</td>\n",
       "      <td>SC</td>\n",
       "      <td>7</td>\n",
       "      <td>1999</td>\n",
       "      <td>571657</td>\n",
       "      <td>258309</td>\n",
       "      <td>12</td>\n",
       "      <td>45.19</td>\n",
       "    </tr>\n",
       "    <tr>\n",
       "      <th>541</th>\n",
       "      <td>U06</td>\n",
       "      <td>LAKSHADWEEP</td>\n",
       "      <td>1</td>\n",
       "      <td>Lakshadweep</td>\n",
       "      <td>ST</td>\n",
       "      <td>7</td>\n",
       "      <td>1999</td>\n",
       "      <td>37619</td>\n",
       "      <td>30174</td>\n",
       "      <td>4</td>\n",
       "      <td>80.21</td>\n",
       "    </tr>\n",
       "    <tr>\n",
       "      <th>542</th>\n",
       "      <td>U07</td>\n",
       "      <td>PONDICHERRY</td>\n",
       "      <td>1</td>\n",
       "      <td>Pondicherry</td>\n",
       "      <td>GEN</td>\n",
       "      <td>7</td>\n",
       "      <td>1999</td>\n",
       "      <td>701990</td>\n",
       "      <td>444174</td>\n",
       "      <td>9</td>\n",
       "      <td>63.27</td>\n",
       "    </tr>\n",
       "  </tbody>\n",
       "</table>\n",
       "<p>543 rows × 11 columns</p>\n",
       "</div>"
      ],
      "text/plain": [
       "    ST_CODE                              ST_NAME  PC_NO        PC_NAME  \\\n",
       "0       S01                       ANDHRA PRADESH      1     Srikakulam   \n",
       "1       S01                       ANDHRA PRADESH      2  Parvathipuram   \n",
       "2       S01                       ANDHRA PRADESH      3        Bobbili   \n",
       "3       S01                       ANDHRA PRADESH      4  Visakhapatnam   \n",
       "4       S01                       ANDHRA PRADESH      5   Bhadrachalam   \n",
       "..      ...                                  ...    ...            ...   \n",
       "538     U05  NATIONAL CAPITAL TERRITORY OF DELHI      5  Chandni Chowk   \n",
       "539     U05  NATIONAL CAPITAL TERRITORY OF DELHI      6    Delhi Sadar   \n",
       "540     U05  NATIONAL CAPITAL TERRITORY OF DELHI      7     Karol Bagh   \n",
       "541     U06                          LAKSHADWEEP      1    Lakshadweep   \n",
       "542     U07                          PONDICHERRY      1    Pondicherry   \n",
       "\n",
       "    PC_TYPE  MONTH  YEAR  TOT_ELECTORS  TOT_VOTERS  TOT_CONTESTANT  \\\n",
       "0       GEN      7  1999        985232      676413               3   \n",
       "1        ST      7  1999        911609      637051               4   \n",
       "2       GEN      7  1999        949773      716703               4   \n",
       "3       GEN      7  1999       1420606      914936               6   \n",
       "4        ST      7  1999       1085536      759883               6   \n",
       "..      ...    ...   ...           ...         ...             ...   \n",
       "538     GEN      7  1999        376654      204453              15   \n",
       "539     GEN      7  1999        529646      278297              13   \n",
       "540      SC      7  1999        571657      258309              12   \n",
       "541      ST      7  1999         37619       30174               4   \n",
       "542     GEN      7  1999        701990      444174               9   \n",
       "\n",
       "     POLL_PERCENT  \n",
       "0           68.66  \n",
       "1           69.88  \n",
       "2           75.46  \n",
       "3           64.40  \n",
       "4           70.00  \n",
       "..            ...  \n",
       "538         54.28  \n",
       "539         52.54  \n",
       "540         45.19  \n",
       "541         80.21  \n",
       "542         63.27  \n",
       "\n",
       "[543 rows x 11 columns]"
      ]
     },
     "execution_count": 102,
     "metadata": {},
     "output_type": "execute_result"
    }
   ],
   "source": [
    "ge99el"
   ]
  },
  {
   "cell_type": "code",
   "execution_count": 107,
   "metadata": {},
   "outputs": [
    {
     "data": {
      "text/plain": [
       "Index(['ST_CODE', 'ST_NAME', 'PC_NO', 'PC_NAME', 'PC_TYPE', 'MONTH', 'YEAR',\n",
       "       'TOT_ELECTORS', 'TOT_VOTERS', 'TOT_CONTESTANT', 'POLL_PERCENT'],\n",
       "      dtype='object')"
      ]
     },
     "execution_count": 107,
     "metadata": {},
     "output_type": "execute_result"
    }
   ],
   "source": [
    "ge99el.columns"
   ]
  },
  {
   "cell_type": "code",
   "execution_count": 108,
   "metadata": {},
   "outputs": [],
   "source": [
    "s1999 = pd.pivot_table(ge99el,index='ST_NAME',values=['TOT_VOTERS', 'TOT_ELECTORS', 'TOT_CONTESTANT'],aggfunc=sum)"
   ]
  },
  {
   "cell_type": "code",
   "execution_count": 109,
   "metadata": {},
   "outputs": [],
   "source": [
    "s1999['POLL_PERC in %']=(s1999['TOT_VOTERS']/s1999['TOT_ELECTORS']*100)"
   ]
  },
  {
   "cell_type": "code",
   "execution_count": 110,
   "metadata": {},
   "outputs": [
    {
     "data": {
      "text/html": [
       "<div>\n",
       "<style scoped>\n",
       "    .dataframe tbody tr th:only-of-type {\n",
       "        vertical-align: middle;\n",
       "    }\n",
       "\n",
       "    .dataframe tbody tr th {\n",
       "        vertical-align: top;\n",
       "    }\n",
       "\n",
       "    .dataframe thead th {\n",
       "        text-align: right;\n",
       "    }\n",
       "</style>\n",
       "<table border=\"1\" class=\"dataframe\">\n",
       "  <thead>\n",
       "    <tr style=\"text-align: right;\">\n",
       "      <th></th>\n",
       "      <th>TOT_CONTESTANT</th>\n",
       "      <th>TOT_ELECTORS</th>\n",
       "      <th>TOT_VOTERS</th>\n",
       "      <th>POLL_PERC in %</th>\n",
       "    </tr>\n",
       "    <tr>\n",
       "      <th>ST_NAME</th>\n",
       "      <th></th>\n",
       "      <th></th>\n",
       "      <th></th>\n",
       "      <th></th>\n",
       "    </tr>\n",
       "  </thead>\n",
       "  <tbody>\n",
       "    <tr>\n",
       "      <th>ANDAMAN &amp; NICOBAR ISLANDS</th>\n",
       "      <td>5</td>\n",
       "      <td>247384</td>\n",
       "      <td>147102</td>\n",
       "      <td>59.463021</td>\n",
       "    </tr>\n",
       "    <tr>\n",
       "      <th>ANDHRA PRADESH</th>\n",
       "      <td>285</td>\n",
       "      <td>49654389</td>\n",
       "      <td>34332073</td>\n",
       "      <td>69.142071</td>\n",
       "    </tr>\n",
       "    <tr>\n",
       "      <th>ARUNACHAL PRADESH</th>\n",
       "      <td>6</td>\n",
       "      <td>611572</td>\n",
       "      <td>441231</td>\n",
       "      <td>72.147024</td>\n",
       "    </tr>\n",
       "    <tr>\n",
       "      <th>ASSAM</th>\n",
       "      <td>115</td>\n",
       "      <td>14290673</td>\n",
       "      <td>10182919</td>\n",
       "      <td>71.255699</td>\n",
       "    </tr>\n",
       "    <tr>\n",
       "      <th>BIHAR</th>\n",
       "      <td>497</td>\n",
       "      <td>58788098</td>\n",
       "      <td>36143272</td>\n",
       "      <td>61.480594</td>\n",
       "    </tr>\n",
       "    <tr>\n",
       "      <th>CHANDIGARH</th>\n",
       "      <td>16</td>\n",
       "      <td>585006</td>\n",
       "      <td>282879</td>\n",
       "      <td>48.354889</td>\n",
       "    </tr>\n",
       "    <tr>\n",
       "      <th>DADRA &amp; NAGAR HAVELI</th>\n",
       "      <td>5</td>\n",
       "      <td>98376</td>\n",
       "      <td>73507</td>\n",
       "      <td>74.720460</td>\n",
       "    </tr>\n",
       "    <tr>\n",
       "      <th>DAMAN &amp; DIU</th>\n",
       "      <td>4</td>\n",
       "      <td>72216</td>\n",
       "      <td>51811</td>\n",
       "      <td>71.744489</td>\n",
       "    </tr>\n",
       "    <tr>\n",
       "      <th>GOA</th>\n",
       "      <td>16</td>\n",
       "      <td>908849</td>\n",
       "      <td>409944</td>\n",
       "      <td>45.105843</td>\n",
       "    </tr>\n",
       "    <tr>\n",
       "      <th>GUJARAT</th>\n",
       "      <td>159</td>\n",
       "      <td>29512402</td>\n",
       "      <td>13878611</td>\n",
       "      <td>47.026369</td>\n",
       "    </tr>\n",
       "    <tr>\n",
       "      <th>HARYANA</th>\n",
       "      <td>114</td>\n",
       "      <td>11038955</td>\n",
       "      <td>7029964</td>\n",
       "      <td>63.683238</td>\n",
       "    </tr>\n",
       "    <tr>\n",
       "      <th>HIMACHAL PRADESH</th>\n",
       "      <td>22</td>\n",
       "      <td>3786479</td>\n",
       "      <td>2149816</td>\n",
       "      <td>56.776124</td>\n",
       "    </tr>\n",
       "    <tr>\n",
       "      <th>JAMMU &amp; KASHMIR</th>\n",
       "      <td>83</td>\n",
       "      <td>5030094</td>\n",
       "      <td>1626945</td>\n",
       "      <td>32.344227</td>\n",
       "    </tr>\n",
       "    <tr>\n",
       "      <th>KARNATAKA</th>\n",
       "      <td>130</td>\n",
       "      <td>34284098</td>\n",
       "      <td>23168337</td>\n",
       "      <td>67.577502</td>\n",
       "    </tr>\n",
       "    <tr>\n",
       "      <th>KERALA</th>\n",
       "      <td>142</td>\n",
       "      <td>22058901</td>\n",
       "      <td>15482676</td>\n",
       "      <td>70.187885</td>\n",
       "    </tr>\n",
       "    <tr>\n",
       "      <th>LAKSHADWEEP</th>\n",
       "      <td>4</td>\n",
       "      <td>37619</td>\n",
       "      <td>30174</td>\n",
       "      <td>80.209469</td>\n",
       "    </tr>\n",
       "    <tr>\n",
       "      <th>MADHYA PRADESH</th>\n",
       "      <td>344</td>\n",
       "      <td>46915473</td>\n",
       "      <td>25746824</td>\n",
       "      <td>54.879174</td>\n",
       "    </tr>\n",
       "    <tr>\n",
       "      <th>MAHARASHTRA</th>\n",
       "      <td>261</td>\n",
       "      <td>56853196</td>\n",
       "      <td>34660007</td>\n",
       "      <td>60.964043</td>\n",
       "    </tr>\n",
       "    <tr>\n",
       "      <th>MANIPUR</th>\n",
       "      <td>18</td>\n",
       "      <td>1372339</td>\n",
       "      <td>901242</td>\n",
       "      <td>65.671966</td>\n",
       "    </tr>\n",
       "    <tr>\n",
       "      <th>MEGHALAYA</th>\n",
       "      <td>14</td>\n",
       "      <td>1178250</td>\n",
       "      <td>661657</td>\n",
       "      <td>56.155909</td>\n",
       "    </tr>\n",
       "    <tr>\n",
       "      <th>MIZORAM</th>\n",
       "      <td>7</td>\n",
       "      <td>449406</td>\n",
       "      <td>293513</td>\n",
       "      <td>65.311322</td>\n",
       "    </tr>\n",
       "    <tr>\n",
       "      <th>NAGALAND</th>\n",
       "      <td>5</td>\n",
       "      <td>955914</td>\n",
       "      <td>728843</td>\n",
       "      <td>76.245666</td>\n",
       "    </tr>\n",
       "    <tr>\n",
       "      <th>NATIONAL CAPITAL TERRITORY OF DELHI</th>\n",
       "      <td>97</td>\n",
       "      <td>8712530</td>\n",
       "      <td>3793697</td>\n",
       "      <td>43.543001</td>\n",
       "    </tr>\n",
       "    <tr>\n",
       "      <th>ORISSA</th>\n",
       "      <td>105</td>\n",
       "      <td>24187490</td>\n",
       "      <td>13456534</td>\n",
       "      <td>55.634272</td>\n",
       "    </tr>\n",
       "    <tr>\n",
       "      <th>PONDICHERRY</th>\n",
       "      <td>9</td>\n",
       "      <td>701990</td>\n",
       "      <td>444174</td>\n",
       "      <td>63.273551</td>\n",
       "    </tr>\n",
       "    <tr>\n",
       "      <th>PUNJAB</th>\n",
       "      <td>120</td>\n",
       "      <td>15717304</td>\n",
       "      <td>8819200</td>\n",
       "      <td>56.111404</td>\n",
       "    </tr>\n",
       "    <tr>\n",
       "      <th>RAJASTHAN</th>\n",
       "      <td>165</td>\n",
       "      <td>31106488</td>\n",
       "      <td>16754016</td>\n",
       "      <td>53.860198</td>\n",
       "    </tr>\n",
       "    <tr>\n",
       "      <th>SIKKIM</th>\n",
       "      <td>4</td>\n",
       "      <td>255377</td>\n",
       "      <td>208670</td>\n",
       "      <td>81.710569</td>\n",
       "    </tr>\n",
       "    <tr>\n",
       "      <th>TAMIL NADU</th>\n",
       "      <td>362</td>\n",
       "      <td>47733664</td>\n",
       "      <td>27676543</td>\n",
       "      <td>57.981183</td>\n",
       "    </tr>\n",
       "    <tr>\n",
       "      <th>TRIPURA</th>\n",
       "      <td>17</td>\n",
       "      <td>1796055</td>\n",
       "      <td>1223784</td>\n",
       "      <td>68.137334</td>\n",
       "    </tr>\n",
       "    <tr>\n",
       "      <th>UTTAR PRADESH</th>\n",
       "      <td>1208</td>\n",
       "      <td>102946404</td>\n",
       "      <td>55107957</td>\n",
       "      <td>53.530726</td>\n",
       "    </tr>\n",
       "    <tr>\n",
       "      <th>WEST BENGAL</th>\n",
       "      <td>309</td>\n",
       "      <td>47649856</td>\n",
       "      <td>35761182</td>\n",
       "      <td>75.049927</td>\n",
       "    </tr>\n",
       "  </tbody>\n",
       "</table>\n",
       "</div>"
      ],
      "text/plain": [
       "                                     TOT_CONTESTANT  TOT_ELECTORS  TOT_VOTERS  \\\n",
       "ST_NAME                                                                         \n",
       "ANDAMAN & NICOBAR ISLANDS                         5        247384      147102   \n",
       "ANDHRA PRADESH                                  285      49654389    34332073   \n",
       "ARUNACHAL PRADESH                                 6        611572      441231   \n",
       "ASSAM                                           115      14290673    10182919   \n",
       "BIHAR                                           497      58788098    36143272   \n",
       "CHANDIGARH                                       16        585006      282879   \n",
       "DADRA & NAGAR HAVELI                              5         98376       73507   \n",
       "DAMAN & DIU                                       4         72216       51811   \n",
       "GOA                                              16        908849      409944   \n",
       "GUJARAT                                         159      29512402    13878611   \n",
       "HARYANA                                         114      11038955     7029964   \n",
       "HIMACHAL PRADESH                                 22       3786479     2149816   \n",
       "JAMMU & KASHMIR                                  83       5030094     1626945   \n",
       "KARNATAKA                                       130      34284098    23168337   \n",
       "KERALA                                          142      22058901    15482676   \n",
       "LAKSHADWEEP                                       4         37619       30174   \n",
       "MADHYA PRADESH                                  344      46915473    25746824   \n",
       "MAHARASHTRA                                     261      56853196    34660007   \n",
       "MANIPUR                                          18       1372339      901242   \n",
       "MEGHALAYA                                        14       1178250      661657   \n",
       "MIZORAM                                           7        449406      293513   \n",
       "NAGALAND                                          5        955914      728843   \n",
       "NATIONAL CAPITAL TERRITORY OF DELHI              97       8712530     3793697   \n",
       "ORISSA                                          105      24187490    13456534   \n",
       "PONDICHERRY                                       9        701990      444174   \n",
       "PUNJAB                                          120      15717304     8819200   \n",
       "RAJASTHAN                                       165      31106488    16754016   \n",
       "SIKKIM                                            4        255377      208670   \n",
       "TAMIL NADU                                      362      47733664    27676543   \n",
       "TRIPURA                                          17       1796055     1223784   \n",
       "UTTAR PRADESH                                  1208     102946404    55107957   \n",
       "WEST BENGAL                                     309      47649856    35761182   \n",
       "\n",
       "                                     POLL_PERC in %  \n",
       "ST_NAME                                              \n",
       "ANDAMAN & NICOBAR ISLANDS                 59.463021  \n",
       "ANDHRA PRADESH                            69.142071  \n",
       "ARUNACHAL PRADESH                         72.147024  \n",
       "ASSAM                                     71.255699  \n",
       "BIHAR                                     61.480594  \n",
       "CHANDIGARH                                48.354889  \n",
       "DADRA & NAGAR HAVELI                      74.720460  \n",
       "DAMAN & DIU                               71.744489  \n",
       "GOA                                       45.105843  \n",
       "GUJARAT                                   47.026369  \n",
       "HARYANA                                   63.683238  \n",
       "HIMACHAL PRADESH                          56.776124  \n",
       "JAMMU & KASHMIR                           32.344227  \n",
       "KARNATAKA                                 67.577502  \n",
       "KERALA                                    70.187885  \n",
       "LAKSHADWEEP                               80.209469  \n",
       "MADHYA PRADESH                            54.879174  \n",
       "MAHARASHTRA                               60.964043  \n",
       "MANIPUR                                   65.671966  \n",
       "MEGHALAYA                                 56.155909  \n",
       "MIZORAM                                   65.311322  \n",
       "NAGALAND                                  76.245666  \n",
       "NATIONAL CAPITAL TERRITORY OF DELHI       43.543001  \n",
       "ORISSA                                    55.634272  \n",
       "PONDICHERRY                               63.273551  \n",
       "PUNJAB                                    56.111404  \n",
       "RAJASTHAN                                 53.860198  \n",
       "SIKKIM                                    81.710569  \n",
       "TAMIL NADU                                57.981183  \n",
       "TRIPURA                                   68.137334  \n",
       "UTTAR PRADESH                             53.530726  \n",
       "WEST BENGAL                               75.049927  "
      ]
     },
     "execution_count": 110,
     "metadata": {},
     "output_type": "execute_result"
    }
   ],
   "source": [
    "\n",
    "\n",
    "s1999\n",
    "\n"
   ]
  },
  {
   "cell_type": "code",
   "execution_count": null,
   "metadata": {},
   "outputs": [],
   "source": []
  }
 ],
 "metadata": {
  "kernelspec": {
   "display_name": "Python 3",
   "language": "python",
   "name": "python3"
  },
  "language_info": {
   "codemirror_mode": {
    "name": "ipython",
    "version": 3
   },
   "file_extension": ".py",
   "mimetype": "text/x-python",
   "name": "python",
   "nbconvert_exporter": "python",
   "pygments_lexer": "ipython3",
   "version": "3.6.8"
  }
 },
 "nbformat": 4,
 "nbformat_minor": 4
}
